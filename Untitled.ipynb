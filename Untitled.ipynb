{
 "cells": [
  {
   "cell_type": "markdown",
   "id": "149a4915",
   "metadata": {},
   "source": [
    "# Problema de transporte \n",
    "\n",
    "## Criterio de optimización"
   ]
  },
  {
   "cell_type": "markdown",
   "id": "4eb50f8d",
   "metadata": {},
   "source": [
    "* Minimizar costos"
   ]
  },
  {
   "cell_type": "markdown",
   "id": "64f14713",
   "metadata": {},
   "source": [
    "## Función objetivo\n",
    "\n",
    "\n",
    "$ min -> 50A_C + 60A_D + 10A_E + 25B_C + 40B_D + 20B_E $"
   ]
  },
  {
   "cell_type": "markdown",
   "id": "18be53f5",
   "metadata": {},
   "source": [
    "## Restricciones"
   ]
  },
  {
   "cell_type": "markdown",
   "id": "008fa257",
   "metadata": {},
   "source": [
    "$ 200 \\leq A_C + B_C $\n",
    "\n",
    "$ 300 \\leq A_D + B_D $\n",
    "\n",
    "$ 400 \\leq A_E + B_E $\n",
    "\n",
    "$ A_C + A_D + A_E \\leq 500 $\n",
    "\n",
    "$ B_C + B_D + B_E \\leq 400 $"
   ]
  },
  {
   "cell_type": "code",
   "execution_count": 2,
   "id": "666f7c86",
   "metadata": {},
   "outputs": [],
   "source": [
    "import numpy as np\n",
    "import scipy.optimize as opt"
   ]
  },
  {
   "cell_type": "code",
   "execution_count": 13,
   "id": "fe6e5fb6",
   "metadata": {},
   "outputs": [
    {
     "data": {
      "text/plain": [
       "     con: array([], dtype=float64)\n",
       "     fun: 23000.0\n",
       " message: 'Optimization terminated successfully.'\n",
       "     nit: 6\n",
       "   slack: array([0., 0., 0., 0., 0.])\n",
       "  status: 0\n",
       " success: True\n",
       "       x: array([  0., 100., 400., 200., 200.,   0.])"
      ]
     },
     "execution_count": 13,
     "metadata": {},
     "output_type": "execute_result"
    }
   ],
   "source": [
    "g = np.array([[50, 60, 10, 25, 40, 20]])\n",
    "r = np.array([[1, 1, 1, 0, 0 ,0],[0, 0, 0, 1, 1, 1],[-1, 0, 0, -1, 0, 0], [0, -1, 0, 0, -1, 0],[0, 0, -1, 0, 0, -1]])\n",
    "l = np.array([[500, 400, -200, -300, -400]])\n",
    "\n",
    "Respuesta = opt.linprog(g, r, l, method=\"simplex\")\n",
    "Respuesta"
   ]
  },
  {
   "cell_type": "code",
   "execution_count": 14,
   "id": "89ea7df5",
   "metadata": {},
   "outputs": [
    {
     "data": {
      "text/plain": [
       "array([  0., 100., 400., 200., 200.,   0.])"
      ]
     },
     "execution_count": 14,
     "metadata": {},
     "output_type": "execute_result"
    }
   ],
   "source": [
    "Respuesta.x"
   ]
  },
  {
   "cell_type": "markdown",
   "id": "1910ae48",
   "metadata": {},
   "source": [
    "# Inversión en bonos"
   ]
  },
  {
   "cell_type": "markdown",
   "id": "52ee3011",
   "metadata": {},
   "source": [
    "## Criterio de optimización"
   ]
  },
  {
   "cell_type": "markdown",
   "id": "d9e37352",
   "metadata": {},
   "source": [
    "$ max -> A_i*R_i $"
   ]
  },
  {
   "cell_type": "markdown",
   "id": "8f9bcaaa",
   "metadata": {},
   "source": [
    "## Función objetivo"
   ]
  },
  {
   "cell_type": "markdown",
   "id": "5a47de30",
   "metadata": {},
   "source": [
    "$ max -> A_1*R_1 + A_2*R_2 + A3_*R_3 + A_4*R_4 + A_5*R_5 + A_6*R_6 $"
   ]
  },
  {
   "cell_type": "markdown",
   "id": "c9468fc7",
   "metadata": {},
   "source": [
    "## Restricciones"
   ]
  },
  {
   "cell_type": "markdown",
   "id": "1ae9bfb8",
   "metadata": {},
   "source": [
    "$ A_1 + A_2 + A_3 + A_4 + A_5 + A_6 \\leq 750,000 $\n",
    "\n",
    "$ A_1 + A_2 + A_4 + A_6 \\geq 375,000 $\n",
    "\n",
    "$ A_2 + A_3 + A_5 \\leq 262,500 $\n",
    "\n"
   ]
  },
  {
   "cell_type": "code",
   "execution_count": null,
   "id": "0a101457",
   "metadata": {},
   "outputs": [],
   "source": []
  },
  {
   "cell_type": "code",
   "execution_count": null,
   "id": "5f583251",
   "metadata": {},
   "outputs": [],
   "source": []
  },
  {
   "cell_type": "code",
   "execution_count": null,
   "id": "261469f4",
   "metadata": {},
   "outputs": [],
   "source": []
  },
  {
   "cell_type": "code",
   "execution_count": null,
   "id": "a2b6ffb7",
   "metadata": {},
   "outputs": [],
   "source": []
  }
 ],
 "metadata": {
  "kernelspec": {
   "display_name": "Python 3",
   "language": "python",
   "name": "python3"
  },
  "language_info": {
   "codemirror_mode": {
    "name": "ipython",
    "version": 3
   },
   "file_extension": ".py",
   "mimetype": "text/x-python",
   "name": "python",
   "nbconvert_exporter": "python",
   "pygments_lexer": "ipython3",
   "version": "3.8.8"
  }
 },
 "nbformat": 4,
 "nbformat_minor": 5
}
