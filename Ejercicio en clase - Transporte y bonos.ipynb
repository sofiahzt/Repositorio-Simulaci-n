{
 "cells": [
  {
   "cell_type": "markdown",
   "id": "4fb1813c",
   "metadata": {},
   "source": [
    "# Problema de transporte \n",
    "\n",
    "## Criterio de optimización"
   ]
  },
  {
   "cell_type": "markdown",
   "id": "3720860b",
   "metadata": {},
   "source": [
    "* Minimizar costos"
   ]
  },
  {
   "cell_type": "markdown",
   "id": "1b5cacfb",
   "metadata": {},
   "source": [
    "## Función objetivo\n",
    "\n",
    "\n",
    "$ min -> 50A_C + 60A_D + 10A_E + 25B_C + 40B_D + 20B_E $"
   ]
  },
  {
   "cell_type": "markdown",
   "id": "1a600383",
   "metadata": {},
   "source": [
    "## Restricciones"
   ]
  },
  {
   "cell_type": "markdown",
   "id": "ebc939fd",
   "metadata": {},
   "source": [
    "$ 200 \\leq A_C + B_C $\n",
    "\n",
    "$ 300 \\leq A_D + B_D $\n",
    "\n",
    "$ 400 \\leq A_E + B_E $\n",
    "\n",
    "$ A_C + A_D + A_E \\leq 500 $\n",
    "\n",
    "$ B_C + B_D + B_E \\leq 400 $"
   ]
  },
  {
   "cell_type": "code",
   "execution_count": 2,
   "id": "80d3b70f",
   "metadata": {},
   "outputs": [],
   "source": [
    "import numpy as np\n",
    "import scipy.optimize as opt"
   ]
  },
  {
   "cell_type": "code",
   "execution_count": 13,
   "id": "8c7c7a7b",
   "metadata": {},
   "outputs": [
    {
     "data": {
      "text/plain": [
       "     con: array([], dtype=float64)\n",
       "     fun: 23000.0\n",
       " message: 'Optimization terminated successfully.'\n",
       "     nit: 6\n",
       "   slack: array([0., 0., 0., 0., 0.])\n",
       "  status: 0\n",
       " success: True\n",
       "       x: array([  0., 100., 400., 200., 200.,   0.])"
      ]
     },
     "execution_count": 13,
     "metadata": {},
     "output_type": "execute_result"
    }
   ],
   "source": [
    "g = np.array([[50, 60, 10, 25, 40, 20]])\n",
    "r = np.array([[1, 1, 1, 0, 0 ,0],[0, 0, 0, 1, 1, 1],[-1, 0, 0, -1, 0, 0], [0, -1, 0, 0, -1, 0],[0, 0, -1, 0, 0, -1]])\n",
    "l = np.array([[500, 400, -200, -300, -400]])\n",
    "\n",
    "Respuesta = opt.linprog(g, r, l, method=\"simplex\")\n",
    "Respuesta"
   ]
  },
  {
   "cell_type": "code",
   "execution_count": 14,
   "id": "5f929038",
   "metadata": {},
   "outputs": [
    {
     "data": {
      "text/plain": [
       "array([  0., 100., 400., 200., 200.,   0.])"
      ]
     },
     "execution_count": 14,
     "metadata": {},
     "output_type": "execute_result"
    }
   ],
   "source": [
    "Respuesta.x"
   ]
  },
  {
   "cell_type": "markdown",
   "id": "f654a9fe",
   "metadata": {},
   "source": [
    "# Inversión en bonos"
   ]
  },
  {
   "cell_type": "markdown",
   "id": "936333e5",
   "metadata": {},
   "source": [
    "## Criterio de optimización"
   ]
  },
  {
   "cell_type": "markdown",
   "id": "f8225721",
   "metadata": {},
   "source": [
    "$ max -> A_i*R_i $"
   ]
  },
  {
   "cell_type": "markdown",
   "id": "edcf02a7",
   "metadata": {},
   "source": [
    "## Función objetivo"
   ]
  },
  {
   "cell_type": "markdown",
   "id": "316e6b38",
   "metadata": {},
   "source": [
    "$ max -> A_1*R_1 + A_2*R_2 + A3_*R_3 + A_4*R_4 + A_5*R_5 + A_6*R_6 $"
   ]
  },
  {
   "cell_type": "markdown",
   "id": "8aa4c173",
   "metadata": {},
   "source": [
    "## Restricciones"
   ]
  },
  {
   "cell_type": "markdown",
   "id": "b74502df",
   "metadata": {},
   "source": [
    "$ A_1 + A_2 + A_3 + A_4 + A_5 + A_6 \\leq 750,000 $\n",
    "\n",
    "$ A_1 + A_2 + A_4 + A_6 \\geq 375,000 $\n",
    "\n",
    "$ A_2 + A_3 + A_5 \\leq 262,500 $\n",
    "\n"
   ]
  },
  {
   "cell_type": "code",
   "execution_count": null,
   "id": "9a4c9ca5",
   "metadata": {},
   "outputs": [],
   "source": []
  },
  {
   "cell_type": "code",
   "execution_count": null,
   "id": "fae97fef",
   "metadata": {},
   "outputs": [],
   "source": []
  },
  {
   "cell_type": "code",
   "execution_count": null,
   "id": "69cfe572",
   "metadata": {},
   "outputs": [],
   "source": []
  },
  {
   "cell_type": "code",
   "execution_count": null,
   "id": "66963dcf",
   "metadata": {},
   "outputs": [],
   "source": []
  }
 ],
 "metadata": {
  "kernelspec": {
   "display_name": "Python 3",
   "language": "python",
   "name": "python3"
  },
  "language_info": {
   "codemirror_mode": {
    "name": "ipython",
    "version": 3
   },
   "file_extension": ".py",
   "mimetype": "text/x-python",
   "name": "python",
   "nbconvert_exporter": "python",
   "pygments_lexer": "ipython3",
   "version": "3.8.8"
  }
 },
 "nbformat": 4,
 "nbformat_minor": 5
}
