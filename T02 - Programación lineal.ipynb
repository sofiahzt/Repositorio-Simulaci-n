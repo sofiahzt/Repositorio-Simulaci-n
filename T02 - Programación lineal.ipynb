{
 "cells": [
  {
   "cell_type": "markdown",
   "metadata": {},
   "source": [
    "# Tarea - Programación lineal"
   ]
  },
  {
   "cell_type": "markdown",
   "metadata": {},
   "source": [
    "## Diseño de la Dieta Óptima\n",
    "\n",
    "Se quiere producir comida para gatos de la manera más barata, no obstante se debe también asegurar que se cumplan los datos requeridos de analisis nutricional. Por lo que se quiere variar la cantidad de cada ingrediente para cumplir con los estandares nutricionales. Los requisitos que se tienen es que en $100$ gramos, se deben tener **por lo menos** $8$ gramos de proteína y $6$ gramos de grasa. Así mismo, no se debe tener más de $2$ gramos de fibra y $0.4$ gramos de sal.  \n",
    "\n",
    "Los datos nutricionales se pueden obtener de la siguiente tabla:\n",
    "\n",
    "Ingrediente|Proteína|Grasa|Fibra|Sal\n",
    ":----|----|----|----|----\n",
    "Pollo|  10.0%|08.0%|00.1%|00.2%\n",
    "Carne|  20.0%|10.0%|00.5%|00.5%\n",
    "Cordero|15.0%|11.0%|00.5%|00.7%\n",
    "Arroz|  00.0%|01.0%|10.0%|00.2%\n",
    "Trigo|  04.0%|01.0%|15.0%|00.8%\n",
    "Gel|    00.0%|00.0%|00.0%|00.0%\n",
    "\n",
    "Los costos de cada producto son:\n",
    "\n",
    "Ingrediente|Costo por gramo\n",
    ":----|----\n",
    "Pollo|$\\$$0.013\n",
    "Carne|$\\$$0.008\n",
    "Cordero|$\\$$0.010\n",
    "Arroz|$\\$$0.002\n",
    "Trigo|$\\$$0.005\n",
    "Gel|$\\$$0.001    \n",
    "\n",
    "Lo que se busca optimizar en este caso es la cantidad de productos que se debe utilizar en la comida de gato, minimizando el costo total. Para simplificar la notación use las siguientes variables: \n",
    "\n",
    "+ $x_1:$ Gramos de pollo  \n",
    "+ $x_2:$ Gramos de carne  \n",
    "+ $x_3:$ Gramos de cordero  \n",
    "+ $x_4:$ Gramos de arroz  \n",
    "+ $x_5:$ Gramos de trigo  \n",
    "+ $x_6:$ Gramos de gel\n",
    "\n",
    "La tarea consiste en plantear el problemade programación lineal que permita satisfacer las necesidades alimenticias del gato al tiempo que minimice el costo total y resolverlo con `linprog`."
   ]
  },
  {
   "cell_type": "markdown",
   "metadata": {},
   "source": [
    "### Criterio de optimización\n",
    "\n",
    "* Minimizar costos\n",
    "\n",
    "### Función objetivo\n",
    "\n",
    "$ min --> 0.013x_1 + 0.008x_2 + 0.010x_3 + 0.002x_4 + 0.005x_5 + 0.001x_6 $\n",
    "\n",
    "### Restricciones\n",
    "\n",
    "$ Proteína: 0.1x_1 + 0.2x_2 + 0.15x_3 + 0.04x_5 \\geq 8 $\n",
    "\n",
    "$ Grasa: 0.08x_1 + 0.1x_2+ 0.11x_3 + 0.01x_4 + 0.01x_5 \\geq 6 $\n",
    "\n",
    "$ Fibra: 0.001x_1 + 0.005x_2 + 0.005x_3 + 0.1x_4 +0.15x_5 \\leq 2 $\n",
    "\n",
    "$ Sal: 0.002x_1 + 0.005x_2 + 0.007x_3 + 0.002x_4 + 0.008x_5 + \\leq 0.4 $\n",
    "\n",
    "$ x_1 + x_2 + x_3 + x_4 + x_5 + x_6 = 100 $"
   ]
  },
  {
   "cell_type": "code",
   "execution_count": 1,
   "metadata": {},
   "outputs": [],
   "source": [
    "import numpy as np\n",
    "import scipy.optimize as opt"
   ]
  },
  {
   "cell_type": "code",
   "execution_count": 24,
   "metadata": {},
   "outputs": [
    {
     "data": {
      "text/plain": [
       "     con: array([], dtype=float64)\n",
       "     fun: 0.52\n",
       " message: 'Optimization terminated successfully.'\n",
       "     nit: 6\n",
       "   slack: array([4. , 0. , 1.7, 0.1, 0. ])\n",
       "  status: 0\n",
       " success: True\n",
       "       x: array([ 0., 60.,  0.,  0.,  0., 40.])"
      ]
     },
     "execution_count": 24,
     "metadata": {},
     "output_type": "execute_result"
    }
   ],
   "source": [
    "c = np.array([[0.013, 0.008, 0.010, 0.002, 0.005, 0.001]])\n",
    "r = np.array([[-0.1, -0.2, -0.15, 0, -0.04, 0],\n",
    "              [-0.08, -0.1, -0.11, -0.01, -0.01, 0],\n",
    "              [0.001, 0.005, 0.005, 0.1, 0.15, 0],\n",
    "              [0.002, 0.005, 0.007, 0.002, 0.008, 0],\n",
    "              [-1, -1, -1, -1, -1, -1]])\n",
    "l = np.array([[-8, -6, 2, 0.4, -100]])\n",
    "\n",
    "respuesta = opt.linprog(c, r, l, method=\"simplex\")\n",
    "respuesta"
   ]
  },
  {
   "cell_type": "code",
   "execution_count": 25,
   "metadata": {},
   "outputs": [
    {
     "data": {
      "text/plain": [
       "array([ 0., 60.,  0.,  0.,  0., 40.])"
      ]
     },
     "execution_count": 25,
     "metadata": {},
     "output_type": "execute_result"
    }
   ],
   "source": [
    "respuesta.x"
   ]
  },
  {
   "cell_type": "markdown",
   "metadata": {},
   "source": [
    "## Problema de distribución de energía eléctrica\n",
    "\n",
    "La Comisión Federal de Electricidad **(CFE)** dispone de cuatro plantas de generación para satisfacer la demanda diaria eléctrica en cuatro ciudades, Guadalajara, León y Morelia. Las plantas $1$, $2$ y $3$ pueden satisfacer $80$, $40$ y $60$ millones de KW al día respectivamente. Las necesidades de las ciudades de Guadalajara, León y Morelia son de $70$, $40$ y $70$ millones de Kw al día respectivamente. \n",
    "\n",
    "\n",
    "Los costos asociados al envío de suministro energético por cada millón de Kw entre cada planta y cada ciudad son los registrados en la siguiente tabla. \n",
    "\n",
    "-|Guadalajara|León|Morelia\n",
    ":----|----|----|----\n",
    "Planta 1|5|2|7\n",
    "Planta 2|3|6|6\n",
    "Planta 3|6|1|2\n",
    "\n",
    "Y por último, las restricciones del problema, van a estar dadas por las capacidades de oferta y demanda de cada planta (en millones de KW) y cada ciudad.\n",
    "\n",
    "Para simplificar la notación use las siguientes variables:\n",
    "\n",
    "+ $x_1$: Kw (en millones) distribuidos de la Planta 1 a Guadalajara\n",
    "+ $x_2$: Kw (en millones) distribuidos de la Planta 1 a León\n",
    "+ $x_3$: Kw (en millones) distribuidos de la Planta 1 a Morelia\n",
    "+ $x_4$: Kw (en millones) distribuidos de la Planta 2 a Guadalajara\n",
    "+ $x_5$: Kw (en millones) distribuidos de la Planta 2 a León\n",
    "+ $x_6$: Kw (en millones) distribuidos de la Planta 2 a Morelia\n",
    "+ $x_7$: Kw (en millones) distribuidos de la Planta 3 a Guadalajara\n",
    "+ $x_8$: Kw (en millones) distribuidos de la Planta 3 a León\n",
    "+ $x_9$: Kw (en millones) distribuidos de la Planta 3 a Morelia\n",
    "\n",
    "La tarea consiste en plantear el problema de programación lineal que permita satisfacer las necesidades de todas las ciudades al tiempo que minimice los costos asociados a la distribución y resolverlo con `linprog`."
   ]
  },
  {
   "cell_type": "markdown",
   "metadata": {},
   "source": [
    "### Criterio de optimización\n",
    "\n",
    "* Minimizar costos\n",
    "\n",
    "### Función objetivo\n",
    "\n",
    "$ min --> 5x_1 + 2x_2 + 7x_3 + 3x_4 + 6x_5 + 6x_6 + 6x_7 + x_8 + 2x_9 $\n",
    "\n",
    "### Restricciones \n",
    "\n",
    "$ x_1 + x_2 + x_3 \\leq 80 $\n",
    "\n",
    "$ x_4 + x_5 + x_6 \\leq 40 $\n",
    "\n",
    "$ x_7 + x_8 + x_9 \\leq 60 $\n",
    "\n",
    "$ x_1 + x_4 + x_7 \\geq 70 $\n",
    "\n",
    "$ x_2 + x_5 + x_8 \\geq 40 $\n",
    "\n",
    "$ x_3 + x_6 + x_9 \\geq 70 $"
   ]
  },
  {
   "cell_type": "code",
   "execution_count": 26,
   "metadata": {},
   "outputs": [],
   "source": [
    "import numpy as np\n",
    "import scipy.optimize as opt"
   ]
  },
  {
   "cell_type": "code",
   "execution_count": 29,
   "metadata": {},
   "outputs": [
    {
     "data": {
      "text/plain": [
       "     con: array([], dtype=float64)\n",
       "     fun: 540.0\n",
       " message: 'Optimization terminated successfully.'\n",
       "     nit: 9\n",
       "   slack: array([0., 0., 0., 0., 0., 0.])\n",
       "  status: 0\n",
       " success: True\n",
       "       x: array([30., 40., 10., 40.,  0.,  0.,  0.,  0., 60.])"
      ]
     },
     "execution_count": 29,
     "metadata": {},
     "output_type": "execute_result"
    }
   ],
   "source": [
    "c = np.array([[5, 2, 7, 3, 6, 6, 6, 1, 2]])\n",
    "r = np.array([[1, 1, 1, 0, 0, 0, 0, 0, 0],\n",
    "              [0, 0, 0, 1, 1, 1, 0, 0, 0],\n",
    "              [0, 0, 0, 0, 0, 0, 1, 1, 1],\n",
    "              [-1, 0, 0, -1, 0, 0, -1, 0, 0],\n",
    "              [0, -1, 0, 0, -1, 0, 0, -1, 0],\n",
    "              [0, 0, -1, 0, 0, -1, 0, 0, -1]])\n",
    "l = np.array([[80, 40, 60, -70, -40, -70]])\n",
    "\n",
    "respuesta = opt.linprog(c, r, l, method=\"simplex\")\n",
    "respuesta"
   ]
  },
  {
   "cell_type": "code",
   "execution_count": 30,
   "metadata": {},
   "outputs": [
    {
     "data": {
      "text/plain": [
       "array([30., 40., 10., 40.,  0.,  0.,  0.,  0., 60.])"
      ]
     },
     "execution_count": 30,
     "metadata": {},
     "output_type": "execute_result"
    }
   ],
   "source": [
    "respuesta.x"
   ]
  },
  {
   "cell_type": "markdown",
   "metadata": {},
   "source": [
    "# Trabajos en clase para puntos extra :)"
   ]
  },
  {
   "cell_type": "markdown",
   "metadata": {},
   "source": [
    "## Problema de transporte\n",
    "\n",
    "### Criterio de optimización\n",
    "\n",
    "* Minimizar costos\n",
    "\n",
    "### Función objetivo\n",
    "\n",
    "$ min --> 50A_C + 60A_D + 10A_E + 25B_C + 40B_D + 20B_E $\n",
    "\n",
    "### Restricciones\n",
    "\n",
    "$ A_C + B_C \\geq 200 $\n",
    "\n",
    "$ A_D + B_D \\geq 300 $\n",
    "\n",
    "$ A_E + B_E \\geq 400 $\n",
    "\n",
    "$ A_C + A_D + A_E \\leq 500 $\n",
    "\n",
    "$ B_C + B_D + B_E \\leq 400 $"
   ]
  },
  {
   "cell_type": "code",
   "execution_count": 31,
   "metadata": {},
   "outputs": [],
   "source": [
    "import numpy as np\n",
    "import scipy.optimize as opt"
   ]
  },
  {
   "cell_type": "code",
   "execution_count": 32,
   "metadata": {},
   "outputs": [
    {
     "data": {
      "text/plain": [
       "     con: array([], dtype=float64)\n",
       "     fun: 23000.0\n",
       " message: 'Optimization terminated successfully.'\n",
       "     nit: 6\n",
       "   slack: array([0., 0., 0., 0., 0.])\n",
       "  status: 0\n",
       " success: True\n",
       "       x: array([  0., 100., 400., 200., 200.,   0.])"
      ]
     },
     "execution_count": 32,
     "metadata": {},
     "output_type": "execute_result"
    }
   ],
   "source": [
    "g = np.array([[50, 60, 10, 25, 40, 20]])\n",
    "r = np.array([[1, 1, 1, 0, 0, 0],\n",
    "              [0, 0, 0, 1, 1, 1],\n",
    "              [-1, 0, 0, -1, 0, 0],\n",
    "              [0, -1, 0, 0, -1, 0],\n",
    "              [0, 0, -1, 0, 0, -1]])\n",
    "l = np.array([[500, 400, -200, -300, -400]])\n",
    "\n",
    "respuesta = opt.linprog(g, r, l, method=\"simplex\")\n",
    "respuesta"
   ]
  },
  {
   "cell_type": "code",
   "execution_count": 33,
   "metadata": {},
   "outputs": [
    {
     "data": {
      "text/plain": [
       "array([  0., 100., 400., 200., 200.,   0.])"
      ]
     },
     "execution_count": 33,
     "metadata": {},
     "output_type": "execute_result"
    }
   ],
   "source": [
    "respuesta.x"
   ]
  },
  {
   "cell_type": "markdown",
   "metadata": {},
   "source": [
    "## Inversión en bonos\n",
    "\n",
    "### Criterio de optimización\n",
    "\n",
    "* Minimizar costos\n",
    "\n",
    "### Función objetivo\n",
    "\n",
    "$ max --> 0.0865A_1 + 0.095A_2 + 0.1A_3 + 0.0875A_4 + 0.0925A_5 + 0.09A_6 $\n",
    "\n",
    "### Restricciones\n",
    "\n",
    "$ A_1 + A_2 + A_3 + A_4 + A_5 + A_6 \\leq 750,000 $\n",
    "\n",
    "$ A_1 + A_2 + A_4 + A_6 \\geq 375,000 $\n",
    "\n",
    "$ A_2 + A_3 + A_5 \\leq 262,500 $\n",
    "\n",
    "$ A_1 \\leq 187,500 $\n",
    "\n",
    "$ A_2 \\leq 187,500 $\n",
    "\n",
    "$ A_3 \\leq 187,500 $\n",
    "\n",
    "$ A_4 \\leq 187,500 $\n",
    "\n",
    "$ A_5 \\leq 187,500 $\n",
    "\n",
    "$ A_6 \\leq 187,500 $"
   ]
  },
  {
   "cell_type": "code",
   "execution_count": null,
   "metadata": {},
   "outputs": [],
   "source": [
    "import numpy as np\n",
    "import scipy.optimize as opt"
   ]
  },
  {
   "cell_type": "code",
   "execution_count": 34,
   "metadata": {},
   "outputs": [
    {
     "data": {
      "text/plain": [
       "     con: array([], dtype=float64)\n",
       "     fun: 32625.0\n",
       " message: 'Optimization terminated successfully.'\n",
       "     nit: 16\n",
       "   slack: array([375000.,      0., 262500.,      0., 187500., 187500.,      0.,\n",
       "       187500., 187500.])\n",
       "  status: 0\n",
       " success: True\n",
       "       x: array([187500.,      0.,      0., 187500.,      0.,      0.])"
      ]
     },
     "execution_count": 34,
     "metadata": {},
     "output_type": "execute_result"
    }
   ],
   "source": [
    "g = np.array([[0.0865, 0.095, 0.1, 0.0875, 0.0925, 0.09]])\n",
    "r = np.array([[1, 1, 1, 1, 1, 1],\n",
    "              [-1, -1, 0, -1, 0, -1],\n",
    "              [0, 1, 1, 0, 1, 0],\n",
    "              [1, 0, 0, 0, 0, 0],\n",
    "              [0, 1, 0, 0, 0, 0],\n",
    "              [0, 0, 1, 0, 0, 0],\n",
    "              [0, 0, 0, 1, 0, 0],\n",
    "              [0, 0, 0, 0, 1, 0],\n",
    "              [0, 0, 0, 0, 0, 1]])\n",
    "l = np.array([750000, -375000, 262500, 187500, 187500, 187500, 187500, 187500, 187500])\n",
    "\n",
    "respuesta = opt.linprog(g, r, l, method=\"simplex\")\n",
    "respuesta"
   ]
  },
  {
   "cell_type": "code",
   "execution_count": 35,
   "metadata": {},
   "outputs": [
    {
     "data": {
      "text/plain": [
       "array([187500.,      0.,      0., 187500.,      0.,      0.])"
      ]
     },
     "execution_count": 35,
     "metadata": {},
     "output_type": "execute_result"
    }
   ],
   "source": [
    "respuesta.x"
   ]
  }
 ],
 "metadata": {
  "kernelspec": {
   "display_name": "Python 3 (ipykernel)",
   "language": "python",
   "name": "python3"
  },
  "language_info": {
   "codemirror_mode": {
    "name": "ipython",
    "version": 3
   },
   "file_extension": ".py",
   "mimetype": "text/x-python",
   "name": "python",
   "nbconvert_exporter": "python",
   "pygments_lexer": "ipython3",
   "version": "3.9.7"
  }
 },
 "nbformat": 4,
 "nbformat_minor": 2
}
